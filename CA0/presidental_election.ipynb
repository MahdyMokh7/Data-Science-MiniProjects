{
 "cells": [
  {
   "cell_type": "code",
   "execution_count": 206,
   "metadata": {},
   "outputs": [],
   "source": [
    "import pandas as pd\n",
    "import numpy as np\n",
    "\n",
    "file_path = \"2016-general-election-trump-vs-clinton.csv\"\n",
    "df = pd.read_csv(file_path)\n"
   ]
  },
  {
   "cell_type": "code",
   "execution_count": 207,
   "metadata": {},
   "outputs": [
    {
     "name": "stdout",
     "output_type": "stream",
     "text": [
      "Estimated proportion (p-hat): 0.4411\n",
      "Standard Error (SE): 0.001527\n",
      "95% Confidence Interval: (0.4381, 0.4441)\n"
     ]
    },
    {
     "name": "stderr",
     "output_type": "stream",
     "text": [
      "C:\\Users\\Mahmodiyan-PC\\AppData\\Local\\Temp\\ipykernel_18672\\4253034689.py:5: SettingWithCopyWarning: \n",
      "A value is trying to be set on a copy of a slice from a DataFrame.\n",
      "Try using .loc[row_indexer,col_indexer] = value instead\n",
      "\n",
      "See the caveats in the documentation: https://pandas.pydata.org/pandas-docs/stable/user_guide/indexing.html#returning-a-view-versus-a-copy\n",
      "  df_clean[\"Clinton\"] = df_clean[\"Clinton\"] / 100\n",
      "C:\\Users\\Mahmodiyan-PC\\AppData\\Local\\Temp\\ipykernel_18672\\4253034689.py:6: SettingWithCopyWarning: \n",
      "A value is trying to be set on a copy of a slice from a DataFrame.\n",
      "Try using .loc[row_indexer,col_indexer] = value instead\n",
      "\n",
      "See the caveats in the documentation: https://pandas.pydata.org/pandas-docs/stable/user_guide/indexing.html#returning-a-view-versus-a-copy\n",
      "  df_clean[\"Trump\"] = df_clean[\"Trump\"] / 100\n"
     ]
    }
   ],
   "source": [
    "import numpy as np\n",
    "\n",
    "df_clean = df.dropna(subset=[\"Number of Observations\"])\n",
    "\n",
    "df_clean[\"Clinton\"] = df_clean[\"Clinton\"] / 100\n",
    "df_clean[\"Trump\"] = df_clean[\"Trump\"] / 100\n",
    "\n",
    "sample_size = 40\n",
    "sample = df_clean.sample(n=sample_size, replace=True)\n",
    "\n",
    "total_voters = sample[\"Number of Observations\"].sum()\n",
    "p_hat = (sample[\"Clinton\"] * sample[\"Number of Observations\"]).sum() / sample[\"Number of Observations\"].sum()\n",
    "\n",
    "SE = np.sqrt((p_hat * (1 - p_hat)) / total_voters)\n",
    "\n",
    "Z = 1.96  # Z-score for 95% confidence level\n",
    "CI_lower = p_hat - Z * SE\n",
    "CI_upper = p_hat + Z * SE\n",
    "\n",
    "print(f\"Estimated proportion (p-hat): {p_hat:.4f}\")\n",
    "print(f\"Standard Error (SE): {SE:.6f}\")\n",
    "print(f\"95% Confidence Interval: ({CI_lower:.4f}, {CI_upper:.4f})\")\n"
   ]
  },
  {
   "cell_type": "markdown",
   "metadata": {},
   "source": [
    "### Q2. Suppose the true population proportion 𝑝 = 0.47. Perform a Monte Carlo simulation with 𝑁 = 30 and 10^5 iterations to show that the CI derived in Question 1 captures the true proportion p approximately 95% of the time"
   ]
  },
  {
   "cell_type": "code",
   "execution_count": 208,
   "metadata": {},
   "outputs": [
    {
     "name": "stdout",
     "output_type": "stream",
     "text": [
      "9.9 %\n"
     ]
    }
   ],
   "source": [
    "sample_size = 30 \n",
    "num_iterations = 1000 \n",
    "\n",
    "number_of_p_hat_sample_in_95_interval = 0\n",
    "\n",
    "for _ in range(num_iterations):\n",
    "    sample = df_clean.sample(n=sample_size, replace=True)\n",
    "\n",
    "    p_hat_sample = (sample[\"Clinton\"] * sample[\"Number of Observations\"]).sum() / sample[\"Number of Observations\"].sum()\n",
    "\n",
    "    if(CI_lower <= p_hat_sample and p_hat_sample <= CI_upper):\n",
    "        number_of_p_hat_sample_in_95_interval += 1\n",
    "\n",
    "print((number_of_p_hat_sample_in_95_interval / num_iterations) * 100, \"%\") "
   ]
  },
  {
   "cell_type": "markdown",
   "metadata": {},
   "source": [
    "### Q3. Load the data from the dataset into your coding workspace, and then make a data frame containing only the columns Trump, Clinton, Pollster, Start Date, Number of Observations, and Mode. Exclude any rows where the Number of Observations is missing.\n"
   ]
  },
  {
   "cell_type": "code",
   "execution_count": 209,
   "metadata": {},
   "outputs": [
    {
     "name": "stdout",
     "output_type": "stream",
     "text": [
      "   Trump  Clinton          Pollster  Start Date  Number of Observations  \\\n",
      "0   0.41     0.45     Insights West  2016-11-04                   940.0   \n",
      "4   0.43     0.41          IBD/TIPP  2016-11-04                  1107.0   \n",
      "5   0.41     0.45  YouGov/Economist  2016-11-04                  3669.0   \n",
      "6   0.06     0.90  YouGov/Economist  2016-11-04                  1392.0   \n",
      "7   0.84     0.04  YouGov/Economist  2016-11-04                  1110.0   \n",
      "\n",
      "         Mode  \n",
      "0    Internet  \n",
      "4  Live Phone  \n",
      "5    Internet  \n",
      "6    Internet  \n",
      "7    Internet  \n"
     ]
    }
   ],
   "source": [
    "import pandas as pd\n",
    "\n",
    "columns_to_keep = [\"Trump\", \"Clinton\", \"Pollster\", \"Start Date\", \"Number of Observations\", \"Mode\"]\n",
    "df_selected_clean = df_clean[columns_to_keep]\n",
    "\n",
    "print(df_selected_clean.head())\n",
    "\n",
    "df_selected_clean.to_csv(\"filtered_polling_data.csv\", index=False)\n"
   ]
  },
  {
   "cell_type": "code",
   "execution_count": 210,
   "metadata": {},
   "outputs": [],
   "source": [
    "# import pandas as pd\n",
    "# import matplotlib.pyplot as plt\n",
    "# import seaborn as sns\n",
    "\n",
    "# # Load the dataset\n",
    "# file_path = \"2016-general-election-trump-vs-clinton.csv\"  # Update with the correct file path\n",
    "# df = pd.read_csv(file_path)\n",
    "\n",
    "# # Select required columns and clean data\n",
    "# columns_to_keep = [\"Trump\", \"Clinton\", \"Start Date\", \"End Date\"]\n",
    "# df_selected = df[columns_to_keep].dropna()\n",
    "\n",
    "# # Convert \"Start Date\" and \"End Date\" to datetime format\n",
    "# df_selected[\"Start Date\"] = pd.to_datetime(df_selected[\"Start Date\"])\n",
    "# df_selected[\"End Date\"] = pd.to_datetime(df_selected[\"End Date\"])\n",
    "\n",
    "# # Compute the midpoint of the polling period as the best estimate for the actual poll date\n",
    "# df_selected[\"Poll Date\"] = df_selected[\"Start Date\"] + (df_selected[\"End Date\"] - df_selected[\"Start Date\"]) / 2\n",
    "\n",
    "# # Sort data by the computed \"Poll Date\"\n",
    "# df_selected = df_selected.sort_values(by=\"Poll Date\")\n",
    "\n",
    "# # Set plot style\n",
    "# sns.set_style(\"whitegrid\")\n",
    "\n",
    "# # Create the plot\n",
    "# plt.figure(figsize=(12, 6))\n",
    "# sns.lineplot(x=df_selected[\"Poll Date\"], y=df_selected[\"Trump\"], label=\"Trump Support (%)\", color=\"red\")\n",
    "# sns.lineplot(x=df_selected[\"Poll Date\"], y=df_selected[\"Clinton\"], label=\"Clinton Support (%)\", color=\"blue\")\n",
    "\n",
    "# # Add trend lines using LOWESS (locally weighted regression)\n",
    "# sns.regplot(x=df_selected[\"Poll Date\"].map(pd.Timestamp.toordinal), y=df_selected[\"Trump\"], \n",
    "#             scatter=False, lowess=True, color=\"red\", label=\"Trump Trend Line\")\n",
    "# sns.regplot(x=df_selected[\"Poll Date\"].map(pd.Timestamp.toordinal), y=df_selected[\"Clinton\"], \n",
    "#             scatter=False, lowess=True, color=\"blue\", label=\"Clinton Trend Line\")\n",
    "\n",
    "# # Customize the plot\n",
    "# plt.xlabel(\"Date\")\n",
    "# plt.ylabel(\"Support Percentage\")\n",
    "# plt.title(\"Time-Series Poll Results: Trump vs. Clinton\")\n",
    "# plt.legend()\n",
    "# plt.xticks(rotation=45)\n",
    "\n",
    "# # Show plot\n",
    "# plt.show()\n"
   ]
  },
  {
   "cell_type": "code",
   "execution_count": 211,
   "metadata": {},
   "outputs": [
    {
     "name": "stdout",
     "output_type": "stream",
     "text": [
      "Total number of voters observed: 1940931.0\n"
     ]
    }
   ],
   "source": [
    "total_voters_observed = df_selected_clean[\"Number of Observations\"].sum()\n",
    "\n",
    "print(f\"Total number of voters observed: {total_voters_observed}\")"
   ]
  },
  {
   "cell_type": "code",
   "execution_count": 212,
   "metadata": {},
   "outputs": [
    {
     "name": "stdout",
     "output_type": "stream",
     "text": [
      "  Candidate  Estimated Proportion\n",
      "0     Trump              0.405834\n",
      "1   Clinton              0.456121\n"
     ]
    }
   ],
   "source": [
    "total_voters = df_clean[\"Number of Observations\"].sum()\n",
    "\n",
    "p_hat_trump = (df_clean[\"Trump\"] * df_clean[\"Number of Observations\"]).sum() / total_voters\n",
    "p_hat_clinton = (df_clean[\"Clinton\"] * df_clean[\"Number of Observations\"]).sum() / total_voters\n",
    "\n",
    "proportion_table = pd.DataFrame({\n",
    "    \"Candidate\": [\"Trump\", \"Clinton\"],\n",
    "    \"Estimated Proportion\": [p_hat_trump, p_hat_clinton]\n",
    "})\n",
    "\n",
    "print(proportion_table)\n"
   ]
  }
 ],
 "metadata": {
  "kernelspec": {
   "display_name": "Python 3",
   "language": "python",
   "name": "python3"
  },
  "language_info": {
   "codemirror_mode": {
    "name": "ipython",
    "version": 3
   },
   "file_extension": ".py",
   "mimetype": "text/x-python",
   "name": "python",
   "nbconvert_exporter": "python",
   "pygments_lexer": "ipython3",
   "version": "3.11.5"
  }
 },
 "nbformat": 4,
 "nbformat_minor": 2
}
