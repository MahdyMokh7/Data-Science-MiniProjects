{
  "cells": [
    {
      "cell_type": "markdown",
      "id": "d99d12b6",
      "metadata": {
        "id": "d99d12b6"
      },
      "source": [
        "# CA4 - Data Science: Convolutional Neural Networks (CNN)\n",
        "\n",
        "**Course:** Data Science  \n",
        "**Assignment:** CA4 (Computer Assignment 4)  \n",
        "**University:** University of Tehran  \n",
        "**Instructors:** Dr. Bahrak, Dr. Yaghoobzadeh  \n",
        "\n",
        "**Authors:**\n",
        "\n",
        "- Mahdy Mokhtari  \n",
        "- Alborz Mahmoudian  \n",
        "- Niloufar Mortazavi  \n",
        "\n",
        "---\n",
        "\n",
        "### Introduction\n",
        "\n",
        "This notebook focuses on the **second task** of the assignment: implementing **Convolutional Neural Networks (CNNs)** for **flower image classification**.\n",
        "\n",
        "The objective is to compare two approaches:\n",
        "- A custom-built **VGG-style CNN from scratch**.\n",
        "- A **fine-tuned pretrained ResNet50** model.\n",
        "\n",
        "The steps include:\n",
        "- Loading and preprocessing the **Flowers Multiclass Dataset**.\n",
        "- Applying **data augmentation** to improve generalization.\n",
        "- Training a VGG-style CNN and evaluating it.\n",
        "- Fine-tuning a pretrained ResNet50 in multiple phases.\n",
        "- Comparing performance metrics such as accuracy, precision, recall, F1-score, and AUC across both models.\n",
        "\n",
        "We utilize **PyTorch** for model development, training, and evaluation.  \n",
        "The experiments are conducted with GPU acceleration where available (e.g., Google Colab).\n"
      ]
    },
    {
      "cell_type": "code",
      "execution_count": 1,
      "id": "c5febd26",
      "metadata": {
        "id": "c5febd26"
      },
      "outputs": [],
      "source": [
        "# pip install torchvision"
      ]
    },
    {
      "cell_type": "code",
      "execution_count": 2,
      "id": "2f70df0e",
      "metadata": {
        "id": "2f70df0e"
      },
      "outputs": [],
      "source": [
        "# pip install kagglehub"
      ]
    },
    {
      "cell_type": "markdown",
      "id": "2bc060df",
      "metadata": {
        "id": "2bc060df"
      },
      "source": [
        "## 1. Dataset Loading\n",
        "\n",
        "We use the **Flowers Multiclass Dataset** from Kaggle to train our CNN models.\n",
        "\n",
        "- The dataset was automatically downloaded using `kagglehub.dataset_download(...)`.\n",
        "- After downloading, the dataset was already organized into `train`, `valid`, and `test` folders.\n",
        "- No manual splitting was needed, as the dataset is already pre-divided for training, validation, and testing.\n",
        "\n",
        "This structure makes it easy to load the dataset directly into PyTorch using `ImageFolder`.\n"
      ]
    },
    {
      "cell_type": "code",
      "execution_count": 3,
      "id": "b7f41642",
      "metadata": {
        "id": "b7f41642"
      },
      "outputs": [],
      "source": [
        "# import kagglehub\n",
        "# path = kagglehub.dataset_download(\"alsaniipe/flowers-multiclass-datasets\")\n",
        "# print(\"Path to dataset files:\", path)"
      ]
    },
    {
      "cell_type": "code",
      "execution_count": 4,
      "id": "da4e0337",
      "metadata": {
        "id": "da4e0337"
      },
      "outputs": [],
      "source": [
        "import os\n",
        "import torch\n",
        "import torch.nn as nn\n",
        "import torch.nn.functional as F\n",
        "import torch.optim as optim\n",
        "from torchvision import datasets, transforms\n",
        "from torch.utils.data import DataLoader, ConcatDataset\n",
        "from tqdm import tqdm\n",
        "from google.colab import drive"
      ]
    },
    {
      "cell_type": "code",
      "execution_count": 5,
      "id": "4b92476b",
      "metadata": {
        "id": "4b92476b",
        "colab": {
          "base_uri": "https://localhost:8080/"
        },
        "outputId": "ba13cdec-4119-4ea3-a38a-fc27f829ef28"
      },
      "outputs": [
        {
          "output_type": "stream",
          "name": "stdout",
          "text": [
            "Mounted at /content/drive\n"
          ]
        }
      ],
      "source": [
        "# CONFIGURATION\n",
        "drive.mount('/content/drive')\n",
        "\n",
        "base_dir = \"/content/drive/MyDrive/ML_Datasets/flowers/flower_photos\"\n",
        "train_dir = os.path.join(base_dir, 'train')\n",
        "val_dir = os.path.join(base_dir, 'validation')\n",
        "test_dir = os.path.join(base_dir, 'test')\n",
        "\n",
        "BATCH_SIZE = 32"
      ]
    },
    {
      "cell_type": "markdown",
      "id": "44d41bd1",
      "metadata": {
        "id": "44d41bd1"
      },
      "source": [
        "## 2. Image Preprocessing\n",
        "\n",
        "To prepare the flower images for CNN training:\n",
        "\n",
        "- **Resize**: All images are resized to **224×224** pixels to match the input size expected by VGG and ResNet.\n",
        "- **Normalize**: Pixel values are scaled to the [0, 1] range by dividing by 255.\n",
        "- **Labels**: Two encoding strategies can be used:\n",
        "  - **Label encoding** (e.g., 0, 1, 2...) — used with `CrossEntropyLoss`.\n",
        "  - **One-hot encoding** (e.g., [0, 0, 1, 0]) — used with `BCEWithLogitsLoss` for multi-label tasks.\n",
        "\n",
        "We ensure the label format is compatible with the loss function chosen.\n"
      ]
    },
    {
      "cell_type": "markdown",
      "id": "c174ce49",
      "metadata": {
        "id": "c174ce49"
      },
      "source": [
        "#### Dataset Folder Structure (ImageFolder)\n",
        "\n",
        "The `test` folder is correctly structured for use with `torchvision.datasets.ImageFolder`.  \n",
        "It contains one subfolder per flower class:\n",
        "\n",
        "\n",
        "When using `ImageFolder`, PyTorch:\n",
        "- Automatically treats each subfolder as a separate class.\n",
        "- Applies **label encoding** based on **alphabetical order**:\n",
        "  - `daisy → 0`\n",
        "  - `dandelion → 1`\n",
        "  - `roses → 2`\n",
        "  - `sunflowers → 3`\n",
        "  - `tulips → 4`\n",
        "\n",
        "This encoding works seamlessly with `CrossEntropyLoss`, which expects class indices.  \n",
        "The same logic applies to the `train` and `validation` folders as well.\n"
      ]
    },
    {
      "cell_type": "markdown",
      "source": [
        "#### Normalization\n",
        "\n",
        "Normalization is an essential preprocessing step that scales image pixel values to a standard range expected by deep learning models.\n",
        "\n",
        "For VGG-style models (and many CNNs trained on ImageNet), we normalize each color channel (Red, Green, Blue) using the **ImageNet mean and standard deviation**:\n",
        "\n",
        "- **Mean**: `[0.485, 0.456, 0.406]`  \n",
        "- **Standard Deviation**: `[0.229, 0.224, 0.225]`\n",
        "\n",
        "This transformation:\n",
        "- Centers the pixel values around 0\n",
        "- Ensures consistent variance across channels\n",
        "- Helps the model converge faster and generalize better\n"
      ],
      "metadata": {
        "id": "Pn4ABbmF5Zen"
      },
      "id": "Pn4ABbmF5Zen"
    },
    {
      "cell_type": "code",
      "execution_count": 6,
      "id": "ecac2b36",
      "metadata": {
        "id": "ecac2b36",
        "colab": {
          "base_uri": "https://localhost:8080/"
        },
        "outputId": "72af02c7-8ea0-43cf-dd19-02be0f6c12da"
      },
      "outputs": [
        {
          "output_type": "stream",
          "name": "stdout",
          "text": [
            "Train samples: 3540\n",
            "Validation samples: 80\n",
            "Test samples: 50\n",
            "Classes: ['daisy', 'dandelion', 'roses', 'sunflowers', 'tulips']\n"
          ]
        }
      ],
      "source": [
        "transform_basic = transforms.Compose([\n",
        "    transforms.Resize((224, 224)),  # resize\n",
        "    transforms.ToTensor(),  # Converts image to tensor and scales to [0,1]\n",
        "    transforms.Normalize(\n",
        "    mean=[0.485, 0.456, 0.406],  # ImageNet mean\n",
        "    std=[0.229, 0.224, 0.225]    # ImageNet std\n",
        ")\n",
        "])\n",
        "\n",
        "train_dataset_basic = datasets.ImageFolder(train_dir, transform=transform_basic)\n",
        "val_dataset = datasets.ImageFolder(val_dir, transform=transform_basic)\n",
        "test_dataset = datasets.ImageFolder(test_dir, transform=transform_basic)\n",
        "\n",
        "# train_loader = DataLoader(train_dataset_basic, batch_size=BATCH_SIZE, shuffle=True)    later on I called the loader\n",
        "val_loader = DataLoader(val_dataset, batch_size=BATCH_SIZE, shuffle=False)\n",
        "test_loader = DataLoader(test_dataset, batch_size=BATCH_SIZE, shuffle=False)\n",
        "\n",
        "print(f\"Train samples: {len(train_dataset_basic)}\")\n",
        "print(f\"Validation samples: {len(val_dataset)}\")\n",
        "print(f\"Test samples: {len(test_dataset)}\")\n",
        "print(f\"Classes: {train_dataset_basic.classes}\")"
      ]
    },
    {
      "cell_type": "markdown",
      "id": "6a5ea905",
      "metadata": {
        "id": "6a5ea905"
      },
      "source": [
        "We chose **label encoding** but the below function is for one-hot encoding if needed."
      ]
    },
    {
      "cell_type": "code",
      "execution_count": 7,
      "id": "df1885f5",
      "metadata": {
        "id": "df1885f5",
        "colab": {
          "base_uri": "https://localhost:8080/"
        },
        "outputId": "cda83c7a-61fa-4209-f181-37a5c8d92458"
      },
      "outputs": [
        {
          "output_type": "stream",
          "name": "stdout",
          "text": [
            "Labels are prepared using label encoding.\n"
          ]
        }
      ],
      "source": [
        "def one_hot_encode(labels, num_classes):\n",
        "    \"\"\"\n",
        "    Convert label-encoded tensor to one-hot tensor.\n",
        "    Args:\n",
        "        labels: Tensor of shape [batch_size] with integer labels\n",
        "        num_classes: Total number of classes\n",
        "    Returns:\n",
        "        One-hot encoded tensor of shape [batch_size, num_classes]\n",
        "    \"\"\"\n",
        "    return F.one_hot(labels, num_classes=num_classes).float()\n",
        "\n",
        "# Example usage (assuming labels from a batch)\n",
        "# for images, labels in train_loader:\n",
        "#     one_hot_labels = one_hot_encode(labels, num_classes=len(train_dataset.classes))\n",
        "#     break  # just for test\n",
        "\n",
        "print(\"Labels are prepared using label encoding.\")\n"
      ]
    },
    {
      "cell_type": "markdown",
      "id": "4d9c4133",
      "metadata": {
        "id": "4d9c4133"
      },
      "source": [
        "## 3. Data Augmentation\n",
        "\n",
        "To help the model generalize better and prevent overfitting, we apply data augmentation **only to the training set**.  \n",
        "Augmentation generates diverse versions of the training images using random transformations like:\n",
        "\n",
        "- Random rotations between -20° and 20°\n",
        "- Horizontal flips with 50% probability\n",
        "- Random crops or shifts (e.g., 10% of image area)\n",
        "- Slight changes in brightness or contrast\n",
        "\n",
        "These techniques simulate real-world variations and improve the model's robustness on unseen images.\n"
      ]
    },
    {
      "cell_type": "code",
      "execution_count": 8,
      "id": "39e7d0f6",
      "metadata": {
        "id": "39e7d0f6"
      },
      "outputs": [],
      "source": [
        "# Individual augmentations\n",
        "transform_rotation = transforms.Compose([\n",
        "    transforms.RandomRotation(degrees=20),\n",
        "    transforms.Resize((224, 224)),\n",
        "    transforms.ToTensor(),\n",
        "    transforms.Normalize(\n",
        "    mean=[0.485, 0.456, 0.406],  # ImageNet mean\n",
        "    std=[0.229, 0.224, 0.225]    # ImageNet std\n",
        ")\n",
        "])\n",
        "transform_flip = transforms.Compose([\n",
        "    transforms.RandomHorizontalFlip(p=1.0),\n",
        "    transforms.Resize((224, 224)),\n",
        "    transforms.ToTensor(),\n",
        "    transforms.Normalize(\n",
        "        mean=[0.485, 0.456, 0.406],  # ImageNet mean\n",
        "        std=[0.229, 0.224, 0.225]    # ImageNet std\n",
        "    )\n",
        "])\n",
        "transform_crop = transforms.Compose([\n",
        "    transforms.RandomResizedCrop(224, scale=(0.9, 1.0)),\n",
        "    transforms.ToTensor(),\n",
        "    transforms.Normalize(\n",
        "        mean=[0.485, 0.456, 0.406],  # ImageNet mean\n",
        "        std=[0.229, 0.224, 0.225]    # ImageNet std\n",
        "    )\n",
        "])\n",
        "transform_brightness = transforms.Compose([\n",
        "    transforms.ColorJitter(brightness=0.2, contrast=0.2),\n",
        "    transforms.Resize((224, 224)),\n",
        "    transforms.ToTensor(),\n",
        "    transforms.Normalize(\n",
        "        mean=[0.485, 0.456, 0.406],  # ImageNet mean\n",
        "        std=[0.229, 0.224, 0.225]    # ImageNet std\n",
        "    )\n",
        "])\n",
        "transform_combined = transforms.Compose([\n",
        "    transforms.RandomRotation(degrees=20),\n",
        "    transforms.RandomHorizontalFlip(p=0.5),\n",
        "    transforms.RandomResizedCrop(224, scale=(0.9, 1.0)),\n",
        "    transforms.ColorJitter(brightness=0.2, contrast=0.2),\n",
        "    transforms.ToTensor(),\n",
        "    transforms.Normalize(\n",
        "        mean=[0.485, 0.456, 0.406],  # ImageNet mean\n",
        "        std=[0.229, 0.224, 0.225]    # ImageNet std\n",
        "    )\n",
        "])\n",
        "\n",
        "train_dataset_rotated = datasets.ImageFolder(train_dir, transform=transform_rotation)\n",
        "train_dataset_flipped = datasets.ImageFolder(train_dir, transform=transform_flip)\n",
        "train_dataset_cropped = datasets.ImageFolder(train_dir, transform=transform_crop)\n",
        "train_dataset_bright = datasets.ImageFolder(train_dir, transform=transform_brightness)\n",
        "train_dataset_combined = datasets.ImageFolder(train_dir, transform=transform_combined)\n",
        "\n",
        "# Combine all train datasets\n",
        "train_dataset = ConcatDataset([\n",
        "    train_dataset_basic,\n",
        "    # train_dataset_basic,    ######################## If my model overfits I will remove this\n",
        "    # train_dataset_rotated,\n",
        "    # train_dataset_flipped,\n",
        "    # train_dataset_cropped,\n",
        "    # train_dataset_bright,\n",
        "    train_dataset_combined\n",
        "])\n",
        "\n",
        "train_loader = DataLoader(train_dataset, batch_size=BATCH_SIZE, shuffle=True)\n"
      ]
    },
    {
      "cell_type": "markdown",
      "id": "611d2232",
      "metadata": {
        "id": "611d2232"
      },
      "source": [
        "I will print the length of the dataset and as we can see it got twice the big of the original becuase of adding the augmentated images to the train dataset as well."
      ]
    },
    {
      "cell_type": "code",
      "execution_count": 9,
      "id": "52af8a6c",
      "metadata": {
        "id": "52af8a6c",
        "colab": {
          "base_uri": "https://localhost:8080/"
        },
        "outputId": "2ca81a6c-8828-4da1-dab1-eec568d2ce7a"
      },
      "outputs": [
        {
          "output_type": "stream",
          "name": "stdout",
          "text": [
            "The nth times the dataset got bigger after augmentation:  2.0\n",
            "Total dataset length:  7080\n",
            "{'daisy': 0, 'dandelion': 1, 'roses': 2, 'sunflowers': 3, 'tulips': 4}\n"
          ]
        }
      ],
      "source": [
        "print(\"The nth times the dataset got bigger after augmentation: \", len(train_dataset) / len(train_dataset_basic))\n",
        "print(\"Total dataset length: \", len(train_dataset))\n",
        "print(train_dataset_combined.class_to_idx)"
      ]
    },
    {
      "cell_type": "markdown",
      "id": "3d5a235c",
      "metadata": {
        "id": "3d5a235c"
      },
      "source": [
        "## 4. Building a VGG-style CNN from Scratch\n",
        "\n",
        "In this step, we build and train a **VGG-inspired Convolutional Neural Network (CNN)** to classify flower species.\n",
        "\n",
        "- **VGG Basics**: A VGG network is composed of multiple stacked convolutional layers with 3×3 filters, followed by max-pooling layers to reduce spatial dimensions.\n",
        "- At the end, fully connected (dense) layers are used to perform classification.\n",
        "- We define a simplified VGG-style architecture suitable for the flower dataset and train it using the preprocessed and augmented images.\n",
        "- The model is evaluated using the validation set to monitor generalization and avoid overfitting.\n"
      ]
    },
    {
      "cell_type": "code",
      "execution_count": 10,
      "id": "c79bbd6c",
      "metadata": {
        "id": "c79bbd6c",
        "colab": {
          "base_uri": "https://localhost:8080/"
        },
        "outputId": "a3569f1d-9731-4e94-863b-697aa0d96b94"
      },
      "outputs": [
        {
          "output_type": "stream",
          "name": "stdout",
          "text": [
            "VGGFlowerCNN(\n",
            "  (features): Sequential(\n",
            "    (0): Conv2d(3, 64, kernel_size=(3, 3), stride=(1, 1), padding=(1, 1))\n",
            "    (1): ReLU(inplace=True)\n",
            "    (2): Conv2d(64, 64, kernel_size=(3, 3), stride=(1, 1), padding=(1, 1))\n",
            "    (3): ReLU(inplace=True)\n",
            "    (4): MaxPool2d(kernel_size=2, stride=2, padding=0, dilation=1, ceil_mode=False)\n",
            "    (5): Conv2d(64, 128, kernel_size=(3, 3), stride=(1, 1), padding=(1, 1))\n",
            "    (6): ReLU(inplace=True)\n",
            "    (7): Conv2d(128, 128, kernel_size=(3, 3), stride=(1, 1), padding=(1, 1))\n",
            "    (8): ReLU(inplace=True)\n",
            "    (9): MaxPool2d(kernel_size=2, stride=2, padding=0, dilation=1, ceil_mode=False)\n",
            "    (10): Conv2d(128, 256, kernel_size=(3, 3), stride=(1, 1), padding=(1, 1))\n",
            "    (11): ReLU(inplace=True)\n",
            "    (12): Conv2d(256, 256, kernel_size=(3, 3), stride=(1, 1), padding=(1, 1))\n",
            "    (13): ReLU(inplace=True)\n",
            "    (14): MaxPool2d(kernel_size=2, stride=2, padding=0, dilation=1, ceil_mode=False)\n",
            "    (15): Conv2d(256, 512, kernel_size=(3, 3), stride=(1, 1), padding=(1, 1))\n",
            "    (16): ReLU(inplace=True)\n",
            "    (17): Conv2d(512, 512, kernel_size=(3, 3), stride=(1, 1), padding=(1, 1))\n",
            "    (18): ReLU(inplace=True)\n",
            "    (19): MaxPool2d(kernel_size=2, stride=2, padding=0, dilation=1, ceil_mode=False)\n",
            "    (20): Conv2d(512, 512, kernel_size=(3, 3), stride=(1, 1), padding=(1, 1))\n",
            "    (21): ReLU(inplace=True)\n",
            "    (22): Conv2d(512, 512, kernel_size=(3, 3), stride=(1, 1), padding=(1, 1))\n",
            "    (23): ReLU(inplace=True)\n",
            "    (24): MaxPool2d(kernel_size=2, stride=2, padding=0, dilation=1, ceil_mode=False)\n",
            "  )\n",
            "  (classifier): Sequential(\n",
            "    (0): Linear(in_features=25088, out_features=4096, bias=True)\n",
            "    (1): ReLU(inplace=True)\n",
            "    (2): Dropout(p=0.5, inplace=False)\n",
            "    (3): Linear(in_features=4096, out_features=4096, bias=True)\n",
            "    (4): ReLU(inplace=True)\n",
            "    (5): Dropout(p=0.5, inplace=False)\n",
            "    (6): Linear(in_features=4096, out_features=5, bias=True)\n",
            "  )\n",
            ")\n"
          ]
        }
      ],
      "source": [
        "class VGGFlowerCNN(nn.Module):\n",
        "    def __init__(self, num_classes=5):\n",
        "        super(VGGFlowerCNN, self).__init__()\n",
        "\n",
        "        self.features = nn.Sequential(\n",
        "            # Block 1\n",
        "            nn.Conv2d(3, 64, kernel_size=3, padding=1), nn.ReLU(inplace=True),\n",
        "            nn.Conv2d(64, 64, kernel_size=3, padding=1), nn.ReLU(inplace=True),\n",
        "            nn.MaxPool2d(kernel_size=2, stride=2),\n",
        "\n",
        "            # Block 2\n",
        "            nn.Conv2d(64, 128, kernel_size=3, padding=1), nn.ReLU(inplace=True),\n",
        "            nn.Conv2d(128, 128, kernel_size=3, padding=1), nn.ReLU(inplace=True),\n",
        "            nn.MaxPool2d(kernel_size=2, stride=2),\n",
        "\n",
        "            # Block 3\n",
        "            nn.Conv2d(128, 256, kernel_size=3, padding=1), nn.ReLU(inplace=True),\n",
        "            nn.Conv2d(256, 256, kernel_size=3, padding=1), nn.ReLU(inplace=True),\n",
        "            nn.MaxPool2d(kernel_size=2, stride=2),\n",
        "\n",
        "            # Block 4\n",
        "            nn.Conv2d(256, 512, kernel_size=3, padding=1), nn.ReLU(inplace=True),\n",
        "            nn.Conv2d(512, 512, kernel_size=3, padding=1), nn.ReLU(inplace=True),\n",
        "            nn.MaxPool2d(kernel_size=2, stride=2),\n",
        "\n",
        "            # Block 5\n",
        "            nn.Conv2d(512, 512, kernel_size=3, padding=1), nn.ReLU(inplace=True),\n",
        "            nn.Conv2d(512, 512, kernel_size=3, padding=1), nn.ReLU(inplace=True),\n",
        "            nn.MaxPool2d(kernel_size=2, stride=2),\n",
        "        )\n",
        "\n",
        "        self.classifier = nn.Sequential(\n",
        "            nn.Linear(512 * 7 * 7, 4096), nn.ReLU(inplace=True),\n",
        "            nn.Dropout(0.5),\n",
        "            nn.Linear(4096, 4096), nn.ReLU(inplace=True),\n",
        "            nn.Dropout(0.5),\n",
        "            nn.Linear(4096, num_classes)\n",
        "        )\n",
        "\n",
        "    def forward(self, x):\n",
        "        x = self.features(x)\n",
        "        x = x.view(x.size(0), -1)\n",
        "        x = self.classifier(x)\n",
        "        return x\n",
        "\n",
        "# Initialize the model\n",
        "vgg_model = VGGFlowerCNN(num_classes=5)\n",
        "print(vgg_model)\n"
      ]
    },
    {
      "cell_type": "markdown",
      "id": "995b7516",
      "metadata": {
        "id": "995b7516"
      },
      "source": [
        "Now lets train the VGG16 CNN Model."
      ]
    },
    {
      "cell_type": "code",
      "execution_count": 11,
      "id": "6ed57ae5",
      "metadata": {
        "id": "6ed57ae5",
        "colab": {
          "base_uri": "https://localhost:8080/"
        },
        "outputId": "79a72be7-82c8-4176-9ebf-99723375ec07"
      },
      "outputs": [
        {
          "output_type": "stream",
          "name": "stdout",
          "text": [
            "device:  cuda\n"
          ]
        }
      ],
      "source": [
        "\n",
        "device = torch.device(\"cuda\" if torch.cuda.is_available() else \"cpu\")\n",
        "vgg_model.to(device)\n",
        "print(\"device: \", device)\n",
        "\n",
        "# Loss and optimizer\n",
        "criterion = nn.CrossEntropyLoss()\n",
        "optimizer = optim.Adam(vgg_model.parameters(), lr=0.0001)\n",
        "\n",
        "num_epochs = 15"
      ]
    },
    {
      "cell_type": "code",
      "execution_count": 12,
      "id": "90599286",
      "metadata": {
        "colab": {
          "base_uri": "https://localhost:8080/"
        },
        "id": "90599286",
        "outputId": "684d815f-ce6b-4edd-f41b-94104a0fccf4"
      },
      "outputs": [
        {
          "output_type": "stream",
          "name": "stderr",
          "text": [
            "Epoch 1/15: 100%|██████████| 222/222 [31:53<00:00,  8.62s/it]\n"
          ]
        },
        {
          "output_type": "stream",
          "name": "stdout",
          "text": [
            "Epoch [1/15], Loss: 318.7006, Train Accuracy: 34.34%\n"
          ]
        },
        {
          "output_type": "stream",
          "name": "stderr",
          "text": [
            "Epoch 2/15: 100%|██████████| 222/222 [02:21<00:00,  1.56it/s]\n"
          ]
        },
        {
          "output_type": "stream",
          "name": "stdout",
          "text": [
            "Epoch [2/15], Loss: 262.4966, Train Accuracy: 48.33%\n"
          ]
        },
        {
          "output_type": "stream",
          "name": "stderr",
          "text": [
            "Epoch 3/15: 100%|██████████| 222/222 [02:22<00:00,  1.56it/s]\n"
          ]
        },
        {
          "output_type": "stream",
          "name": "stdout",
          "text": [
            "Epoch [3/15], Loss: 229.1024, Train Accuracy: 58.36%\n"
          ]
        },
        {
          "output_type": "stream",
          "name": "stderr",
          "text": [
            "Epoch 4/15: 100%|██████████| 222/222 [02:21<00:00,  1.57it/s]\n"
          ]
        },
        {
          "output_type": "stream",
          "name": "stdout",
          "text": [
            "Epoch [4/15], Loss: 191.8402, Train Accuracy: 66.57%\n"
          ]
        },
        {
          "output_type": "stream",
          "name": "stderr",
          "text": [
            "Epoch 5/15: 100%|██████████| 222/222 [02:21<00:00,  1.57it/s]\n"
          ]
        },
        {
          "output_type": "stream",
          "name": "stdout",
          "text": [
            "Epoch [5/15], Loss: 166.8427, Train Accuracy: 71.47%\n"
          ]
        },
        {
          "output_type": "stream",
          "name": "stderr",
          "text": [
            "Epoch 6/15: 100%|██████████| 222/222 [02:21<00:00,  1.57it/s]\n"
          ]
        },
        {
          "output_type": "stream",
          "name": "stdout",
          "text": [
            "Epoch [6/15], Loss: 156.3652, Train Accuracy: 72.98%\n"
          ]
        },
        {
          "output_type": "stream",
          "name": "stderr",
          "text": [
            "Epoch 7/15: 100%|██████████| 222/222 [02:21<00:00,  1.57it/s]\n"
          ]
        },
        {
          "output_type": "stream",
          "name": "stdout",
          "text": [
            "Epoch [7/15], Loss: 143.4294, Train Accuracy: 75.07%\n"
          ]
        },
        {
          "output_type": "stream",
          "name": "stderr",
          "text": [
            "Epoch 8/15: 100%|██████████| 222/222 [02:22<00:00,  1.56it/s]\n"
          ]
        },
        {
          "output_type": "stream",
          "name": "stdout",
          "text": [
            "Epoch [8/15], Loss: 128.8005, Train Accuracy: 78.02%\n"
          ]
        },
        {
          "output_type": "stream",
          "name": "stderr",
          "text": [
            "Epoch 9/15: 100%|██████████| 222/222 [02:21<00:00,  1.57it/s]\n"
          ]
        },
        {
          "output_type": "stream",
          "name": "stdout",
          "text": [
            "Epoch [9/15], Loss: 120.5526, Train Accuracy: 79.56%\n"
          ]
        },
        {
          "output_type": "stream",
          "name": "stderr",
          "text": [
            "Epoch 10/15: 100%|██████████| 222/222 [02:21<00:00,  1.57it/s]\n"
          ]
        },
        {
          "output_type": "stream",
          "name": "stdout",
          "text": [
            "Epoch [10/15], Loss: 104.7150, Train Accuracy: 82.03%\n"
          ]
        },
        {
          "output_type": "stream",
          "name": "stderr",
          "text": [
            "Epoch 11/15: 100%|██████████| 222/222 [02:20<00:00,  1.58it/s]\n"
          ]
        },
        {
          "output_type": "stream",
          "name": "stdout",
          "text": [
            "Epoch [11/15], Loss: 99.0359, Train Accuracy: 83.33%\n"
          ]
        },
        {
          "output_type": "stream",
          "name": "stderr",
          "text": [
            "Epoch 12/15: 100%|██████████| 222/222 [02:21<00:00,  1.57it/s]\n"
          ]
        },
        {
          "output_type": "stream",
          "name": "stdout",
          "text": [
            "Epoch [12/15], Loss: 85.1334, Train Accuracy: 86.48%\n"
          ]
        },
        {
          "output_type": "stream",
          "name": "stderr",
          "text": [
            "Epoch 13/15: 100%|██████████| 222/222 [02:22<00:00,  1.56it/s]\n"
          ]
        },
        {
          "output_type": "stream",
          "name": "stdout",
          "text": [
            "Epoch [13/15], Loss: 74.4432, Train Accuracy: 88.11%\n"
          ]
        },
        {
          "output_type": "stream",
          "name": "stderr",
          "text": [
            "Epoch 14/15: 100%|██████████| 222/222 [02:22<00:00,  1.56it/s]\n"
          ]
        },
        {
          "output_type": "stream",
          "name": "stdout",
          "text": [
            "Epoch [14/15], Loss: 68.4235, Train Accuracy: 89.19%\n"
          ]
        },
        {
          "output_type": "stream",
          "name": "stderr",
          "text": [
            "Epoch 15/15: 100%|██████████| 222/222 [02:21<00:00,  1.57it/s]\n"
          ]
        },
        {
          "output_type": "stream",
          "name": "stdout",
          "text": [
            "Epoch [15/15], Loss: 61.9523, Train Accuracy: 90.41%\n",
            "Validation Accuracy: 82.50%\n"
          ]
        }
      ],
      "source": [
        "# Training loop\n",
        "for epoch in range(num_epochs):\n",
        "    vgg_model.train()\n",
        "    running_loss = 0.0\n",
        "    correct = 0\n",
        "    total = 0\n",
        "\n",
        "    for images, labels in tqdm(train_loader, desc=f\"Epoch {epoch+1}/{num_epochs}\"):\n",
        "        images, labels = images.to(device), labels.to(device)\n",
        "\n",
        "        outputs = vgg_model(images)\n",
        "        loss = criterion(outputs, labels)\n",
        "\n",
        "        optimizer.zero_grad()\n",
        "        loss.backward()\n",
        "        optimizer.step()\n",
        "\n",
        "        running_loss += loss.item()\n",
        "        _, predicted = outputs.max(1)\n",
        "        total += labels.size(0)\n",
        "        correct += predicted.eq(labels).sum().item()\n",
        "\n",
        "    train_accuracy = 100 * correct / total\n",
        "    print(f\"Epoch [{epoch+1}/{num_epochs}], Loss: {running_loss:.4f}, Train Accuracy: {train_accuracy:.2f}%\")\n",
        "\n",
        "# Validation loop\n",
        "vgg_model.eval()\n",
        "val_correct = 0\n",
        "val_total = 0\n",
        "\n",
        "with torch.no_grad():\n",
        "    for images, labels in val_loader:\n",
        "        images, labels = images.to(device), labels.to(device)\n",
        "        outputs = vgg_model(images)\n",
        "        _, predicted = outputs.max(1)\n",
        "        val_total += labels.size(0)\n",
        "        val_correct += predicted.eq(labels).sum().item()\n",
        "\n",
        "val_accuracy = 100 * val_correct / val_total\n",
        "print(f\"Validation Accuracy: {val_accuracy:.2f}%\")\n"
      ]
    },
    {
      "cell_type": "markdown",
      "source": [
        "## 5. Fine-Tuning a Pretrained ResNet\n",
        "\n",
        "In this section, we will fine-tune a pretrained ResNet model (e.g., ResNet50) to classify flower images. This transfer learning process helps achieve high accuracy even with limited data.\n",
        "\n",
        "Steps:\n",
        "- **Setup**: Load a pretrained ResNet50 from `torchvision.models`.\n",
        "- **Freeze Base, Train Head**: Freeze all convolutional layers and replace the final classification head with a new one for our flower classes. Train for 5–10 epochs.\n",
        "- **Unfreeze Last Conv Layer**: Gradually unfreeze the last convolutional block (e.g., `layer4`) and train with the head for another 5–10 epochs to adapt mid-level features.\n",
        "- **Unfreeze All**: Finally, unfreeze the entire model and fine-tune it end-to-end for another 5–10 epochs.\n",
        "- **Evaluate** after each stage to measure improvements in validation accuracy.\n"
      ],
      "metadata": {
        "id": "hPx1oX8unxi3"
      },
      "id": "hPx1oX8unxi3"
    },
    {
      "cell_type": "code",
      "source": [
        "import torch\n",
        "import torch.nn as nn\n",
        "import torch.optim as optim\n",
        "from torchvision import models\n",
        "from tqdm import tqdm\n",
        "from torchvision.models import ResNet50_Weights\n",
        "\n",
        "# Load pretrained ResNet50\n",
        "resnet_model = models.resnet50(weights=ResNet50_Weights.DEFAULT)\n",
        "resnet_model.fc = nn.Linear(resnet_model.fc.in_features, 5)  # 5 flower classes\n",
        "\n",
        "device = torch.device(\"cuda\" if torch.cuda.is_available() else \"cpu\")\n",
        "resnet_model.to(device)\n",
        "\n",
        "criterion = nn.CrossEntropyLoss()"
      ],
      "metadata": {
        "colab": {
          "base_uri": "https://localhost:8080/"
        },
        "id": "q_dxXy-_pjGW",
        "outputId": "c669d600-d8d8-487e-cae9-4a162eb12347"
      },
      "id": "q_dxXy-_pjGW",
      "execution_count": 17,
      "outputs": [
        {
          "output_type": "stream",
          "name": "stderr",
          "text": [
            "Downloading: \"https://download.pytorch.org/models/resnet50-11ad3fa6.pth\" to /root/.cache/torch/hub/checkpoints/resnet50-11ad3fa6.pth\n",
            "100%|██████████| 97.8M/97.8M [00:00<00:00, 194MB/s]\n"
          ]
        }
      ]
    },
    {
      "cell_type": "code",
      "source": [
        "NUM_EPOCHS = 7\n",
        "LR = 0.001\n",
        "\n",
        "# ------- Stage 1: Freeze all except final layer -------\n",
        "for param in resnet_model.parameters():\n",
        "    param.requires_grad = False\n",
        "\n",
        "for param in resnet_model.fc.parameters():\n",
        "    param.requires_grad = True\n",
        "\n",
        "optimizer = optim.Adam(resnet_model.fc.parameters(), lr=LR)\n",
        "\n",
        "for epoch in range(NUM_EPOCHS):\n",
        "    resnet_model.train()\n",
        "    correct = total = 0\n",
        "    for images, labels in tqdm(train_loader, desc=f\"[Stage 1] Epoch {epoch+1}/{NUM_EPOCHS}\"):\n",
        "        images, labels = images.to(device), labels.to(device)\n",
        "        optimizer.zero_grad()\n",
        "        outputs = resnet_model(images)\n",
        "        loss = criterion(outputs, labels)\n",
        "        loss.backward()\n",
        "        optimizer.step()\n",
        "        _, preds = outputs.max(1)\n",
        "        total += labels.size(0)\n",
        "        correct += preds.eq(labels).sum().item()\n",
        "    print(f\"Stage 1 Epoch {epoch+1}, Accuracy: {100 * correct / total:.2f}%\")\n"
      ],
      "metadata": {
        "colab": {
          "base_uri": "https://localhost:8080/"
        },
        "id": "q2dDCm9epls_",
        "outputId": "5010a0b3-0845-413f-c980-baa268a8c0a0"
      },
      "id": "q2dDCm9epls_",
      "execution_count": 19,
      "outputs": [
        {
          "output_type": "stream",
          "name": "stderr",
          "text": [
            "[Stage 1] Epoch 1/7: 100%|██████████| 222/222 [01:18<00:00,  2.82it/s]\n"
          ]
        },
        {
          "output_type": "stream",
          "name": "stdout",
          "text": [
            "Stage 1 Epoch 1, Accuracy: 84.56%\n"
          ]
        },
        {
          "output_type": "stream",
          "name": "stderr",
          "text": [
            "[Stage 1] Epoch 2/7: 100%|██████████| 222/222 [01:15<00:00,  2.94it/s]\n"
          ]
        },
        {
          "output_type": "stream",
          "name": "stdout",
          "text": [
            "Stage 1 Epoch 2, Accuracy: 91.92%\n"
          ]
        },
        {
          "output_type": "stream",
          "name": "stderr",
          "text": [
            "[Stage 1] Epoch 3/7: 100%|██████████| 222/222 [01:16<00:00,  2.91it/s]\n"
          ]
        },
        {
          "output_type": "stream",
          "name": "stdout",
          "text": [
            "Stage 1 Epoch 3, Accuracy: 93.95%\n"
          ]
        },
        {
          "output_type": "stream",
          "name": "stderr",
          "text": [
            "[Stage 1] Epoch 4/7: 100%|██████████| 222/222 [01:16<00:00,  2.91it/s]\n"
          ]
        },
        {
          "output_type": "stream",
          "name": "stdout",
          "text": [
            "Stage 1 Epoch 4, Accuracy: 94.41%\n"
          ]
        },
        {
          "output_type": "stream",
          "name": "stderr",
          "text": [
            "[Stage 1] Epoch 5/7: 100%|██████████| 222/222 [01:14<00:00,  2.99it/s]\n"
          ]
        },
        {
          "output_type": "stream",
          "name": "stdout",
          "text": [
            "Stage 1 Epoch 5, Accuracy: 95.30%\n"
          ]
        },
        {
          "output_type": "stream",
          "name": "stderr",
          "text": [
            "[Stage 1] Epoch 6/7: 100%|██████████| 222/222 [01:13<00:00,  3.02it/s]\n"
          ]
        },
        {
          "output_type": "stream",
          "name": "stdout",
          "text": [
            "Stage 1 Epoch 6, Accuracy: 96.26%\n"
          ]
        },
        {
          "output_type": "stream",
          "name": "stderr",
          "text": [
            "[Stage 1] Epoch 7/7: 100%|██████████| 222/222 [01:14<00:00,  3.00it/s]"
          ]
        },
        {
          "output_type": "stream",
          "name": "stdout",
          "text": [
            "Stage 1 Epoch 7, Accuracy: 96.45%\n"
          ]
        },
        {
          "output_type": "stream",
          "name": "stderr",
          "text": [
            "\n"
          ]
        }
      ]
    },
    {
      "cell_type": "code",
      "source": [
        "NUM_EPOCHS = 7\n",
        "LR = 0.0001\n",
        "\n",
        "# ------- Stage 2: Unfreeze layer4 + fc -------\n",
        "for name, param in resnet_model.named_parameters():\n",
        "    if \"layer4\" in name or \"fc\" in name:\n",
        "        param.requires_grad = True\n",
        "    else:\n",
        "        param.requires_grad = False\n",
        "\n",
        "# Define optimizer only for parameters that require gradients\n",
        "optimizer = optim.Adam(filter(lambda p: p.requires_grad, resnet_model.parameters()), lr=LR)\n",
        "\n",
        "# Training loop\n",
        "for epoch in range(NUM_EPOCHS):\n",
        "    resnet_model.train()\n",
        "    correct = total = 0\n",
        "    for images, labels in tqdm(train_loader, desc=f\"[Stage 2] Epoch {epoch+1}/{NUM_EPOCHS}\"):\n",
        "        images, labels = images.to(device), labels.to(device)\n",
        "\n",
        "        optimizer.zero_grad()\n",
        "        outputs = resnet_model(images)\n",
        "        loss = criterion(outputs, labels)\n",
        "        loss.backward()\n",
        "        optimizer.step()\n",
        "\n",
        "        _, preds = outputs.max(1)\n",
        "        total += labels.size(0)\n",
        "        correct += preds.eq(labels).sum().item()\n",
        "\n",
        "    accuracy = 100 * correct / total\n",
        "    print(f\"Stage 2 Epoch {epoch+1}, Accuracy: {accuracy:.2f}%\")\n"
      ],
      "metadata": {
        "colab": {
          "base_uri": "https://localhost:8080/"
        },
        "id": "vQ0h5e6kpjDI",
        "outputId": "27dccd34-a011-4c9d-e7cd-cf2fe75bd908"
      },
      "id": "vQ0h5e6kpjDI",
      "execution_count": 20,
      "outputs": [
        {
          "output_type": "stream",
          "name": "stderr",
          "text": [
            "[Stage 2] Epoch 1/7: 100%|██████████| 222/222 [01:21<00:00,  2.74it/s]\n"
          ]
        },
        {
          "output_type": "stream",
          "name": "stdout",
          "text": [
            "Stage 2 Epoch 1, Accuracy: 97.33%\n"
          ]
        },
        {
          "output_type": "stream",
          "name": "stderr",
          "text": [
            "[Stage 2] Epoch 2/7: 100%|██████████| 222/222 [01:24<00:00,  2.64it/s]\n"
          ]
        },
        {
          "output_type": "stream",
          "name": "stdout",
          "text": [
            "Stage 2 Epoch 2, Accuracy: 99.38%\n"
          ]
        },
        {
          "output_type": "stream",
          "name": "stderr",
          "text": [
            "[Stage 2] Epoch 3/7: 100%|██████████| 222/222 [01:25<00:00,  2.61it/s]\n"
          ]
        },
        {
          "output_type": "stream",
          "name": "stdout",
          "text": [
            "Stage 2 Epoch 3, Accuracy: 99.49%\n"
          ]
        },
        {
          "output_type": "stream",
          "name": "stderr",
          "text": [
            "[Stage 2] Epoch 4/7: 100%|██████████| 222/222 [01:21<00:00,  2.71it/s]\n"
          ]
        },
        {
          "output_type": "stream",
          "name": "stdout",
          "text": [
            "Stage 2 Epoch 4, Accuracy: 99.79%\n"
          ]
        },
        {
          "output_type": "stream",
          "name": "stderr",
          "text": [
            "[Stage 2] Epoch 5/7: 100%|██████████| 222/222 [01:21<00:00,  2.73it/s]\n"
          ]
        },
        {
          "output_type": "stream",
          "name": "stdout",
          "text": [
            "Stage 2 Epoch 5, Accuracy: 99.70%\n"
          ]
        },
        {
          "output_type": "stream",
          "name": "stderr",
          "text": [
            "[Stage 2] Epoch 6/7: 100%|██████████| 222/222 [01:23<00:00,  2.67it/s]\n"
          ]
        },
        {
          "output_type": "stream",
          "name": "stdout",
          "text": [
            "Stage 2 Epoch 6, Accuracy: 99.77%\n"
          ]
        },
        {
          "output_type": "stream",
          "name": "stderr",
          "text": [
            "[Stage 2] Epoch 7/7: 100%|██████████| 222/222 [01:22<00:00,  2.70it/s]"
          ]
        },
        {
          "output_type": "stream",
          "name": "stdout",
          "text": [
            "Stage 2 Epoch 7, Accuracy: 99.84%\n"
          ]
        },
        {
          "output_type": "stream",
          "name": "stderr",
          "text": [
            "\n"
          ]
        }
      ]
    },
    {
      "cell_type": "code",
      "source": [
        "NUM_EPOCHS = 7\n",
        "LR = 0.00001\n",
        "\n",
        "# ------- Stage 3: Unfreeze all layers -------\n",
        "for param in resnet_model.parameters():\n",
        "    param.requires_grad = True\n",
        "\n",
        "# Optimizer over all parameters\n",
        "optimizer = optim.Adam(resnet_model.parameters(), lr=LR)\n",
        "\n",
        "# Training loop\n",
        "for epoch in range(NUM_EPOCHS):\n",
        "    resnet_model.train()\n",
        "    correct = total = 0\n",
        "    for images, labels in tqdm(train_loader, desc=f\"[Stage 3] Epoch {epoch+1}/{NUM_EPOCHS}\"):\n",
        "        images, labels = images.to(device), labels.to(device)\n",
        "\n",
        "        optimizer.zero_grad()\n",
        "        outputs = resnet_model(images)\n",
        "        loss = criterion(outputs, labels)\n",
        "        loss.backward()\n",
        "        optimizer.step()\n",
        "\n",
        "        _, preds = outputs.max(1)\n",
        "        total += labels.size(0)\n",
        "        correct += preds.eq(labels).sum().item()\n",
        "\n",
        "    accuracy = 100 * correct / total\n",
        "    print(f\"Stage 3 Epoch {epoch+1}, Accuracy: {accuracy:.2f}%\")\n"
      ],
      "metadata": {
        "colab": {
          "base_uri": "https://localhost:8080/"
        },
        "id": "WmBHvRC1n1vx",
        "outputId": "7fb9e364-31bd-4779-9362-ed3b7b1a51f2"
      },
      "id": "WmBHvRC1n1vx",
      "execution_count": 21,
      "outputs": [
        {
          "output_type": "stream",
          "name": "stderr",
          "text": [
            "[Stage 3] Epoch 1/7: 100%|██████████| 222/222 [01:59<00:00,  1.86it/s]\n"
          ]
        },
        {
          "output_type": "stream",
          "name": "stdout",
          "text": [
            "Stage 3 Epoch 1, Accuracy: 99.87%\n"
          ]
        },
        {
          "output_type": "stream",
          "name": "stderr",
          "text": [
            "[Stage 3] Epoch 2/7: 100%|██████████| 222/222 [02:02<00:00,  1.81it/s]\n"
          ]
        },
        {
          "output_type": "stream",
          "name": "stdout",
          "text": [
            "Stage 3 Epoch 2, Accuracy: 99.93%\n"
          ]
        },
        {
          "output_type": "stream",
          "name": "stderr",
          "text": [
            "[Stage 3] Epoch 3/7: 100%|██████████| 222/222 [01:59<00:00,  1.85it/s]\n"
          ]
        },
        {
          "output_type": "stream",
          "name": "stdout",
          "text": [
            "Stage 3 Epoch 3, Accuracy: 99.90%\n"
          ]
        },
        {
          "output_type": "stream",
          "name": "stderr",
          "text": [
            "[Stage 3] Epoch 4/7: 100%|██████████| 222/222 [02:02<00:00,  1.81it/s]\n"
          ]
        },
        {
          "output_type": "stream",
          "name": "stdout",
          "text": [
            "Stage 3 Epoch 4, Accuracy: 99.93%\n"
          ]
        },
        {
          "output_type": "stream",
          "name": "stderr",
          "text": [
            "[Stage 3] Epoch 5/7: 100%|██████████| 222/222 [02:00<00:00,  1.85it/s]\n"
          ]
        },
        {
          "output_type": "stream",
          "name": "stdout",
          "text": [
            "Stage 3 Epoch 5, Accuracy: 99.94%\n"
          ]
        },
        {
          "output_type": "stream",
          "name": "stderr",
          "text": [
            "[Stage 3] Epoch 6/7: 100%|██████████| 222/222 [02:01<00:00,  1.83it/s]\n"
          ]
        },
        {
          "output_type": "stream",
          "name": "stdout",
          "text": [
            "Stage 3 Epoch 6, Accuracy: 99.94%\n"
          ]
        },
        {
          "output_type": "stream",
          "name": "stderr",
          "text": [
            "[Stage 3] Epoch 7/7: 100%|██████████| 222/222 [02:00<00:00,  1.84it/s]"
          ]
        },
        {
          "output_type": "stream",
          "name": "stdout",
          "text": [
            "Stage 3 Epoch 7, Accuracy: 99.97%\n"
          ]
        },
        {
          "output_type": "stream",
          "name": "stderr",
          "text": [
            "\n"
          ]
        }
      ]
    },
    {
      "cell_type": "code",
      "source": [
        "# ------- Evaluation on Validation Set -------\n",
        "resnet_model.eval()\n",
        "val_correct = 0\n",
        "val_total = 0\n",
        "with torch.no_grad():\n",
        "    for images, labels in val_loader:\n",
        "        images, labels = images.to(device), labels.to(device)\n",
        "        outputs = resnet_model(images)\n",
        "        _, preds = outputs.max(1)\n",
        "        val_total += labels.size(0)\n",
        "        val_correct += preds.eq(labels).sum().item()\n",
        "print(f\"Final Validation Accuracy: {100 * val_correct / val_total:.2f}%\")"
      ],
      "metadata": {
        "colab": {
          "base_uri": "https://localhost:8080/"
        },
        "id": "sYg7cQ9Iprku",
        "outputId": "c200b797-2093-4bbd-861e-8b44391a16a4"
      },
      "id": "sYg7cQ9Iprku",
      "execution_count": 22,
      "outputs": [
        {
          "output_type": "stream",
          "name": "stdout",
          "text": [
            "Final Validation Accuracy: 95.00%\n"
          ]
        }
      ]
    },
    {
      "cell_type": "markdown",
      "source": [
        "## 6. Result Comparison: VGG vs. ResNet\n",
        "\n",
        "In this step, we conduct a fair and thorough evaluation of the custom VGG model and the fine-tuned ResNet50 model. We compare their classification performance using key metrics:\n",
        "\n",
        "- **Accuracy**: Overall correct predictions.\n",
        "- **Precision, Recall, and F1-Score**: Per-class performance.\n",
        "- **Confusion Matrix**: Visual representation of classification errors.\n",
        "- **ROC Curve & AUC Score**: Diagnostic capability and robustness (especially useful for multi-class classification via one-vs-rest strategy).\n",
        "\n",
        "These metrics provide deeper insight into each model’s strengths, weaknesses, and generalization ability on the validation dataset.\n"
      ],
      "metadata": {
        "id": "bPLubl0Gp4C5"
      },
      "id": "bPLubl0Gp4C5"
    },
    {
      "cell_type": "code",
      "source": [
        "import numpy as np\n",
        "\n",
        "\n",
        "def get_predictions(model, dataloader, device):\n",
        "    model.eval()\n",
        "    y_true = []\n",
        "    y_pred = []\n",
        "\n",
        "    with torch.no_grad():\n",
        "        for images, labels in dataloader:\n",
        "            images, labels = images.to(device), labels.to(device)\n",
        "            outputs = model(images)\n",
        "            _, preds = torch.max(outputs, 1)\n",
        "            y_true.extend(labels.cpu().numpy())\n",
        "            y_pred.extend(preds.cpu().numpy())\n",
        "\n",
        "    return np.array(y_true), np.array(y_pred)\n",
        "\n",
        "\n",
        "\n",
        "# 1. Get predictions\n",
        "y_true_vgg, y_pred_vgg = get_predictions(vgg_model, test_loader, device)\n",
        "y_true_resnet, y_pred_resnet = get_predictions(resnet_model, test_loader, device)"
      ],
      "metadata": {
        "id": "R5Lwjreap5mJ"
      },
      "id": "R5Lwjreap5mJ",
      "execution_count": 25,
      "outputs": []
    },
    {
      "cell_type": "code",
      "source": [
        "from sklearn.metrics import accuracy_score, precision_score, recall_score, f1_score\n",
        "\n",
        "def compare_classification_metrics(y_true1, y_pred1, y_true2, y_pred2, name1=\"VGG\", name2=\"ResNet\"):\n",
        "    print(f\"{'Metric':<10} | {name1:<10} | {name2:<10}\")\n",
        "    print(\"-\" * 35)\n",
        "    for metric_name, func in {\n",
        "        \"Accuracy\": accuracy_score,\n",
        "        \"Precision\": lambda y, p: precision_score(y, p, average='macro'),\n",
        "        \"Recall\": lambda y, p: recall_score(y, p, average='macro'),\n",
        "        \"F1-Score\": lambda y, p: f1_score(y, p, average='macro'),\n",
        "    }.items():\n",
        "        v1 = func(y_true1, y_pred1)\n",
        "        v2 = func(y_true2, y_pred2)\n",
        "        print(f\"{metric_name:<10} | {v1:.4f}     | {v2:.4f}\")\n",
        "\n",
        "\n",
        "\n",
        "# 2. Compare classification metrics\n",
        "compare_classification_metrics(y_true_vgg, y_pred_vgg, y_true_resnet, y_pred_resnet)"
      ],
      "metadata": {
        "colab": {
          "base_uri": "https://localhost:8080/"
        },
        "id": "Qt7g9N5prpL1",
        "outputId": "78c3daea-3f81-470c-f904-dfc9edc10d4f"
      },
      "id": "Qt7g9N5prpL1",
      "execution_count": 26,
      "outputs": [
        {
          "output_type": "stream",
          "name": "stdout",
          "text": [
            "Metric     | VGG        | ResNet    \n",
            "-----------------------------------\n",
            "Accuracy   | 0.6600     | 0.9400\n",
            "Precision  | 0.7157     | 0.9396\n",
            "Recall     | 0.6600     | 0.9400\n",
            "F1-Score   | 0.6541     | 0.9389\n"
          ]
        }
      ]
    },
    {
      "cell_type": "markdown",
      "source": [
        "### Why ResNet Performed Better Than VGG in Performance Metrics\n",
        "\n",
        "The ResNet model achieved significantly higher scores in all evaluation metrics compared to the VGG model. This performance gap can be explained by several important factors:\n",
        "\n",
        "1. **Deeper Architecture with Skip Connections**  \n",
        "   ResNet50 is a much deeper network (50 layers) compared to VGG, yet it remains trainable due to its residual (skip) connections. These connections help mitigate issues like vanishing gradients and allow the model to learn complex features more effectively.\n",
        "\n",
        "2. **Pretraining on ImageNet**  \n",
        "   ResNet50 was initialized with pretrained weights from ImageNet. This gave the model a strong foundation of learned features that are transferable to the flower classification task. On the other hand, VGG was trained from scratch and had to learn all patterns from the dataset without prior knowledge.\n",
        "\n",
        "3. **Effective Fine-Tuning Strategy**  \n",
        "   The ResNet model was fine-tuned in stages—first training only the classifier head, then unfreezing the last convolutional block, and finally training the entire network. This gradual adaptation allowed the model to adjust to the new data while preserving useful pretrained features.\n",
        "\n",
        "4. **Better Feature Reuse and Regularization**  \n",
        "   The architecture of ResNet inherently encourages feature reuse through its skip connections, which also act as a form of regularization. This results in better generalization to unseen data, reducing overfitting compared to VGG.\n",
        "\n",
        "\n"
      ],
      "metadata": {
        "id": "n3laGHfDDlnt"
      },
      "id": "n3laGHfDDlnt"
    },
    {
      "cell_type": "code",
      "source": [
        "import matplotlib.pyplot as plt\n",
        "import seaborn as sns\n",
        "from sklearn.metrics import confusion_matrix\n",
        "\n",
        "def compare_confusion_matrices(y_true1, y_pred1, y_true2, y_pred2, class_names, name1=\"VGG\", name2=\"ResNet\"):\n",
        "    cm1 = confusion_matrix(y_true1, y_pred1)\n",
        "    cm2 = confusion_matrix(y_true2, y_pred2)\n",
        "\n",
        "    fig, axes = plt.subplots(1, 2, figsize=(14, 6))\n",
        "    sns.heatmap(cm1, annot=True, fmt=\"d\", cmap=\"Blues\", xticklabels=class_names, yticklabels=class_names, ax=axes[0])\n",
        "    axes[0].set_title(f\"{name1} Confusion Matrix\")\n",
        "\n",
        "    sns.heatmap(cm2, annot=True, fmt=\"d\", cmap=\"Blues\", xticklabels=class_names, yticklabels=class_names, ax=axes[1])\n",
        "    axes[1].set_title(f\"{name2} Confusion Matrix\")\n",
        "\n",
        "    plt.tight_layout()\n",
        "    plt.show()\n",
        "\n",
        "\n",
        "\n",
        "\n",
        "# 3. Confusion matrix\n",
        "compare_confusion_matrices(y_true_vgg, y_pred_vgg, y_true_resnet, y_pred_resnet, class_names=train_dataset_basic.classes)\n"
      ],
      "metadata": {
        "colab": {
          "base_uri": "https://localhost:8080/",
          "height": 607
        },
        "id": "GA8BMhBcrqln",
        "outputId": "cc445866-b1d2-4e04-cb5b-3b44dd7516f8"
      },
      "id": "GA8BMhBcrqln",
      "execution_count": 27,
      "outputs": [
        {
          "output_type": "display_data",
          "data": {
            "text/plain": [
              "<Figure size 1400x600 with 4 Axes>"
            ],
            "image/png": "[encoded data removed]"
          },
          "metadata": {}
        }
      ]
    },
    {
      "cell_type": "markdown",
      "source": [
        "### Confusion Matrix Analysis: VGG vs. ResNet\n",
        "\n",
        "The **confusion matrix** is a powerful tool for visualizing classification performance by showing how many instances were correctly or incorrectly predicted for each class.\n",
        "\n",
        "- **Rows** represent the actual flower classes.\n",
        "- **Columns** represent the predicted flower classes.\n",
        "- The diagonal elements indicate correct predictions.\n",
        "- Off-diagonal elements represent misclassifications.\n",
        "\n",
        "\n",
        "The VGG confusion matrix\n",
        "\n",
        "Shows that while the model performs reasonably well, it struggles with several misclassifications. For instance, roses are often confused with sunflowers and dandelions, and sunflowers are misclassified as dandelions multiple times. These errors suggest that the VGG model has difficulty capturing distinct class-specific features, leading to overlap in its predictions across similar flower types.\n",
        "\n",
        "\n",
        "ResNet Confusion Matrix:\n",
        "\n",
        "The ResNet model shows significantly better performance with most predictions correctly placed along the diagonal."
      ],
      "metadata": {
        "id": "iR2XbaUCErEY"
      },
      "id": "iR2XbaUCErEY"
    },
    {
      "cell_type": "code",
      "source": [
        "from sklearn.preprocessing import label_binarize\n",
        "from sklearn.metrics import roc_auc_score, roc_curve\n",
        "\n",
        "def compare_roc_auc(model1, model2, dataloader, device, class_names, name1=\"VGG\", name2=\"ResNet\"):\n",
        "    def get_probs_and_labels(model):\n",
        "        model.eval()\n",
        "        all_probs = []\n",
        "        all_labels = []\n",
        "        with torch.no_grad():\n",
        "            for images, labels in dataloader:\n",
        "                images = images.to(device)\n",
        "                outputs = model(images)\n",
        "                all_probs.append(outputs.cpu().numpy())\n",
        "                all_labels.extend(labels.cpu().numpy())\n",
        "        return np.vstack(all_probs), np.array(all_labels)\n",
        "\n",
        "    probs1, labels1 = get_probs_and_labels(model1)\n",
        "    probs2, labels2 = get_probs_and_labels(model2)\n",
        "\n",
        "    bin_labels1 = label_binarize(labels1, classes=range(len(class_names)))\n",
        "    bin_labels2 = label_binarize(labels2, classes=range(len(class_names)))\n",
        "\n",
        "    plt.figure(figsize=(10, 6))\n",
        "    for i, class_name in enumerate(class_names):\n",
        "        fpr1, tpr1, _ = roc_curve(bin_labels1[:, i], probs1[:, i])\n",
        "        auc1 = roc_auc_score(bin_labels1[:, i], probs1[:, i])\n",
        "        plt.plot(fpr1, tpr1, label=f\"{name1} - {class_name} (AUC={auc1:.2f})\")\n",
        "\n",
        "        fpr2, tpr2, _ = roc_curve(bin_labels2[:, i], probs2[:, i])\n",
        "        auc2 = roc_auc_score(bin_labels2[:, i], probs2[:, i])\n",
        "        plt.plot(fpr2, tpr2, linestyle='--', label=f\"{name2} - {class_name} (AUC={auc2:.2f})\")\n",
        "\n",
        "    plt.plot([0, 1], [0, 1], 'k--')\n",
        "    plt.title(\"ROC Curves (Multiclass)\")\n",
        "    plt.xlabel(\"False Positive Rate\")\n",
        "    plt.ylabel(\"True Positive Rate\")\n",
        "    plt.legend(loc=\"lower right\")\n",
        "    plt.grid(True)\n",
        "    plt.tight_layout()\n",
        "    plt.show()\n",
        "\n",
        "\n",
        "# 4. ROC & AUC\n",
        "compare_roc_auc(vgg_model, resnet_model, test_loader, device, class_names=train_dataset_basic.classes)\n"
      ],
      "metadata": {
        "colab": {
          "base_uri": "https://localhost:8080/",
          "height": 607
        },
        "id": "5Hh8au8xrr3A",
        "outputId": "c31bb767-c941-4d4e-9f6c-df7b6eff2086"
      },
      "id": "5Hh8au8xrr3A",
      "execution_count": 28,
      "outputs": [
        {
          "output_type": "display_data",
          "data": {
            "text/plain": [
              "<Figure size 1000x600 with 1 Axes>"
            ],
            "image/png": "[encoded data removed]"
          },
          "metadata": {}
        }
      ]
    },
    {
      "cell_type": "markdown",
      "source": [
        "### ROC Curve (Multiclass) and AUC Analysis\n",
        "\n",
        "The ROC (Receiver Operating Characteristic) curve is a diagnostic tool used to visualize the performance of classification models. It plots the True Positive Rate (Sensitivity) against the False Positive Rate for different threshold settings. For multiclass problems, one curve is plotted per class using the one-vs-rest strategy. The AUC (Area Under the Curve) represents the model's ability to distinguish between classes — the closer to 1, the better.\n",
        "\n",
        "In the figure above, the ResNet model consistently outperforms the VGG model across all flower classes. ResNet achieves nearly perfect AUC values (close to or exactly 1.00), while the VGG model shows relatively lower performance, especially for classes like tulips and dandelions. This clearly illustrates the stronger generalization and discriminative power of the fine-tuned ResNet compared to the VGG model.\n"
      ],
      "metadata": {
        "id": "6kt06MrHGb1E"
      },
      "id": "6kt06MrHGb1E"
    }
  ],
  "metadata": {
    "kernelspec": {
      "display_name": "Python 3",
      "name": "python3"
    },
    "language_info": {
      "codemirror_mode": {
        "name": "ipython",
        "version": 3
      },
      "file_extension": ".py",
      "mimetype": "text/x-python",
      "name": "python",
      "nbconvert_exporter": "python",
      "pygments_lexer": "ipython3",
      "version": "3.12.5"
    },
    "colab": {
      "provenance": [],
      "gpuType": "T4"
    },
    "accelerator": "GPU"
  },
  "nbformat": 4,
  "nbformat_minor": 5
}